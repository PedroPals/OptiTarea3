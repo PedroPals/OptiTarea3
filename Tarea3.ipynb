{
 "cells": [
  {
   "metadata": {
    "ExecuteTime": {
     "end_time": "2024-12-04T21:50:41.418889Z",
     "start_time": "2024-12-04T21:50:36.783468Z"
    }
   },
   "cell_type": "code",
   "source": [
    "from docplex.mp.model import Model as Model_cpx\n",
    "import gurobipy as gp\n",
    "from gurobipy import Model as Model_grb, GRB, quicksum\n",
    "import math\n",
    "import time"
   ],
   "id": "7b5a02173163ca3a",
   "outputs": [],
   "execution_count": 1
  },
  {
   "metadata": {},
   "cell_type": "markdown",
   "source": "### Parser que lee el archivo de instancia y retorna un diccionario con los datos.",
   "id": "37768cc246432549"
  },
  {
   "metadata": {
    "ExecuteTime": {
     "end_time": "2024-12-04T21:50:41.465481Z",
     "start_time": "2024-12-04T21:50:41.434186Z"
    }
   },
   "cell_type": "code",
   "source": [
    "def parse_file(file_path):\n",
    "    with open(file_path, 'r') as file:\n",
    "        lines = [line.strip() for line in file if line.strip()]\n",
    "\n",
    "    num_customers, num_depots = int(lines[0]), int(lines[1])\n",
    "    depots = [tuple(map(float, lines[i].split())) for i in range(2, 2 + num_depots)]\n",
    "    customers = [tuple(map(float, lines[i].split())) for i in range(2 + num_depots, 2 + num_depots + num_customers)]\n",
    "    vehicle_capacity = float(lines[2 + num_depots + num_customers])\n",
    "    depot_capacities = list(map(float, lines[3 + num_depots + num_customers:3 + 2 * num_depots + num_customers]))\n",
    "    customer_demands = list(\n",
    "        map(float, lines[3 + 2 * num_depots + num_customers:3 + 2 * num_depots + 2 * num_customers]))\n",
    "    depot_opening_costs = list(\n",
    "        map(float, lines[3 + 2 * num_depots + 2 * num_customers:3 + 3 * num_depots + 2 * num_customers]))\n",
    "    route_opening_cost = float(lines[3 + 3 * num_depots + 2 * num_customers])\n",
    "\n",
    "    all_points = depots + customers\n",
    "    distance_matrix = [\n",
    "        [math.sqrt((x1 - x2) ** 2 + (y1 - y2) ** 2) for x2, y2 in all_points] for x1, y1 in all_points\n",
    "    ]\n",
    "\n",
    "    return {\n",
    "        \"num_customers\": num_customers,\n",
    "        \"num_depots\": num_depots,\n",
    "        \"depots\": depots,\n",
    "        \"customers\": customers,\n",
    "        \"vehicle_capacity\": vehicle_capacity,\n",
    "        \"depot_capacities\": depot_capacities,\n",
    "        \"customer_demands\": customer_demands,\n",
    "        \"depot_opening_costs\": depot_opening_costs,\n",
    "        \"route_opening_cost\": route_opening_cost,\n",
    "        \"distance_matrix\": distance_matrix,\n",
    "    }"
   ],
   "id": "fd44359467153434",
   "outputs": [],
   "execution_count": 2
  },
  {
   "metadata": {},
   "cell_type": "markdown",
   "source": "# Modelo SCF (Single Commodity Flow).",
   "id": "cbc671c9a94f75e2"
  },
  {
   "metadata": {
    "ExecuteTime": {
     "end_time": "2024-12-04T21:50:42.248487Z",
     "start_time": "2024-12-04T21:50:42.208050Z"
    }
   },
   "cell_type": "code",
   "source": [
    "def modelo_scf_cplex(parsed_data):\n",
    "    \"\"\"\n",
    "    Implementación del modelo SCF (Single Commodity Flow) usando CPLEX.\n",
    "\n",
    "    Parámetros:\n",
    "        parsed_data (dict): Diccionario con los datos parseados.\n",
    "\n",
    "    Retorna:\n",
    "        Model: Modelo de CPLEX con el problema SCF formulado.\n",
    "    \"\"\"\n",
    "    n = parsed_data[\"num_customers\"]\n",
    "    m = parsed_data[\"num_depots\"]\n",
    "    depots = parsed_data[\"depots\"]\n",
    "    customers = parsed_data[\"customers\"]\n",
    "    vehicle_capacity = parsed_data[\"vehicle_capacity\"]\n",
    "    depot_capacities = parsed_data[\"depot_capacities\"]\n",
    "    customer_demands = parsed_data[\"customer_demands\"]\n",
    "    opening_costs_depots = parsed_data[\"depot_opening_costs\"]\n",
    "    opening_cost_route = parsed_data[\"route_opening_cost\"]\n",
    "    costs = parsed_data[\"distance_matrix\"]\n",
    "\n",
    "    # Crear el modelo\n",
    "    mdl = Model_cpx(name=\"SCF_cpx\")\n",
    "\n",
    "    # Nodos totales (depósitos + clientes)\n",
    "    nodos = list(range(m + n))\n",
    "\n",
    "    # Variables\n",
    "    x = mdl.binary_var_matrix(nodos, nodos, name=\"x\")  # Ruta entre nodos\n",
    "    f = mdl.continuous_var_matrix(nodos, nodos, name=\"f\")  # Flujo de producto\n",
    "    y = mdl.binary_var_list(m, name=\"y\")  # Uso de depósitos\n",
    "\n",
    "    # Función objetivo: minimizar costos de transporte, apertura y uso de rutas\n",
    "    mdl.minimize(\n",
    "        mdl.sum(costs[i][j] * x[i, j] for i in nodos for j in nodos if i != j) +  # Costos de transporte\n",
    "        mdl.sum(opening_costs_depots[d] * y[d] for d in range(m)) +  # Costos de apertura de depósitos\n",
    "        opening_cost_route * mdl.sum(y[d] for d in range(m))  # Costos de rutas\n",
    "    )\n",
    "\n",
    "    # Restricciones\n",
    "    # 1. Cada cliente es atendido exactamente una vez\n",
    "    for i in range(m, m + n):\n",
    "        mdl.add_constraint(mdl.sum(x[i, j] for j in nodos if j != i) == 1)  # Salen\n",
    "        mdl.add_constraint(mdl.sum(x[j, i] for j in nodos if j != i) == 1)  # Entran\n",
    "\n",
    "    # 2. Las rutas deben comenzar y terminar en depósitos abiertos\n",
    "    for d in range(m):\n",
    "        mdl.add_constraint(mdl.sum(x[d, j] for j in range(m, m + n)) <= y[d])\n",
    "        mdl.add_constraint(mdl.sum(x[j, d] for j in range(m, m + n)) <= y[d])\n",
    "\n",
    "    # 3. Restricciones de flujo para garantizar balance\n",
    "    for i in range(m, m + n):  # Para cada cliente\n",
    "        mdl.add_constraint(\n",
    "            mdl.sum(f[i, j] for j in nodos if j != i) -\n",
    "            mdl.sum(f[j, i] for j in nodos if j != i) == customer_demands[i - m]\n",
    "        )\n",
    "    for i, j in [(i, j) for i in nodos for j in nodos if i != j]:\n",
    "        mdl.add_constraint(f[i, j] <= vehicle_capacity * x[i, j])  # Flujo limitado por capacidad del vehículo\n",
    "\n",
    "    # 4. Capacidad máxima de los depósitos\n",
    "    for d in range(m):\n",
    "        mdl.add_constraint(\n",
    "            mdl.sum(f[d, j] for j in range(m, m + n)) <= depot_capacities[d]\n",
    "        )\n",
    "\n",
    "    return mdl\n"
   ],
   "id": "ddcc31adf77e1c0",
   "outputs": [],
   "execution_count": 3
  },
  {
   "metadata": {
    "ExecuteTime": {
     "end_time": "2024-12-04T21:50:42.341160Z",
     "start_time": "2024-12-04T21:50:42.286651Z"
    }
   },
   "cell_type": "code",
   "source": [
    "def modelo_scf_gurobi(parsed_data):\n",
    "    \"\"\"\n",
    "    Implementación del modelo SCF (Single Commodity Flow) usando Gurobi.\n",
    "\n",
    "    Parámetros:\n",
    "        parsed_data (dict): Diccionario con los datos parseados.\n",
    "\n",
    "    Retorna:\n",
    "        Model: Modelo de Gurobi con el problema SCF formulado.\n",
    "    \"\"\"\n",
    "    n = parsed_data[\"num_customers\"]\n",
    "    m = parsed_data[\"num_depots\"]\n",
    "    depots = parsed_data[\"depots\"]\n",
    "    customers = parsed_data[\"customers\"]\n",
    "    vehicle_capacity = parsed_data[\"vehicle_capacity\"]\n",
    "    depot_capacities = parsed_data[\"depot_capacities\"]\n",
    "    customer_demands = parsed_data[\"customer_demands\"]\n",
    "    opening_costs_depots = parsed_data[\"depot_opening_costs\"]\n",
    "    opening_cost_route = parsed_data[\"route_opening_cost\"]\n",
    "    costs = parsed_data[\"distance_matrix\"]\n",
    "\n",
    "    # Crear el modelo\n",
    "    mdl = Model_grb(\"SCF\")\n",
    "\n",
    "    # Nodos totales (depósitos + clientes)\n",
    "    nodos = list(range(m + n))\n",
    "\n",
    "    # Variables\n",
    "    x = mdl.addVars(nodos, nodos, vtype=GRB.BINARY, name=\"x\")  # Ruta entre nodos\n",
    "    f = mdl.addVars(nodos, nodos, vtype=GRB.CONTINUOUS, name=\"f\")  # Flujo de producto\n",
    "    y = mdl.addVars(m, vtype=GRB.BINARY, name=\"y\")  # Uso de depósitos\n",
    "\n",
    "    # Función objetivo: minimizar costos de transporte, apertura y uso de rutas\n",
    "    mdl.setObjective(\n",
    "        quicksum(costs[i][j] * x[i, j] for i in nodos for j in nodos if i != j) +  # Costos de transporte\n",
    "        quicksum(opening_costs_depots[d] * y[d] for d in range(m)) +  # Costos de apertura de depósitos\n",
    "        opening_cost_route * quicksum(y[d] for d in range(m)),  # Costos de rutas\n",
    "        GRB.MINIMIZE\n",
    "    )\n",
    "\n",
    "    # Restricciones\n",
    "    # 1. Cada cliente es atendido exactamente una vez\n",
    "    for i in range(m, m + n):\n",
    "        mdl.addConstr(quicksum(x[i, j] for j in nodos if j != i) == 1)  # Salen\n",
    "        mdl.addConstr(quicksum(x[j, i] for j in nodos if j != i) == 1)  # Entran\n",
    "\n",
    "    # 2. Las rutas deben comenzar y terminar en depósitos abiertos\n",
    "    for d in range(m):\n",
    "        mdl.addConstr(quicksum(x[d, j] for j in range(m, m + n)) <= y[d])\n",
    "        mdl.addConstr(quicksum(x[j, d] for j in range(m, m + n)) <= y[d])\n",
    "\n",
    "    # 3. Restricciones de flujo para garantizar balance\n",
    "    for i in range(m, m + n):  # Para cada cliente\n",
    "        mdl.addConstr(\n",
    "            quicksum(f[i, j] for j in nodos if j != i) -\n",
    "            quicksum(f[j, i] for j in nodos if j != i) == customer_demands[i - m]\n",
    "        )\n",
    "    for i, j in [(i, j) for i in nodos for j in nodos if i != j]:\n",
    "        mdl.addConstr(f[i, j] <= vehicle_capacity * x[i, j])  # Flujo limitado por capacidad del vehículo\n",
    "\n",
    "    # 4. Capacidad máxima de los depósitos\n",
    "    for d in range(m):\n",
    "        mdl.addConstr(\n",
    "            quicksum(f[d, j] for j in range(m, m + n)) <= depot_capacities[d]\n",
    "        )\n",
    "\n",
    "    return mdl"
   ],
   "id": "49b76ff314d07ac8",
   "outputs": [],
   "execution_count": 4
  },
  {
   "metadata": {},
   "cell_type": "markdown",
   "source": "# Modelo CDA (Capacitated Depot Allocation).",
   "id": "d23ef92d78ec24b7"
  },
  {
   "metadata": {
    "ExecuteTime": {
     "end_time": "2024-12-04T21:50:42.451503Z",
     "start_time": "2024-12-04T21:50:42.409328Z"
    }
   },
   "cell_type": "code",
   "source": [
    "def modelo_cda_cplex(parsed_data):\n",
    "    n = parsed_data[\"num_customers\"]\n",
    "    m = parsed_data[\"num_depots\"]\n",
    "    depots = parsed_data[\"depots\"]\n",
    "    customers = parsed_data[\"customers\"]\n",
    "    vehicle_capacity = parsed_data[\"vehicle_capacity\"]\n",
    "    depot_capacities = parsed_data[\"depot_capacities\"]\n",
    "    customer_demands = parsed_data[\"customer_demands\"]\n",
    "    opening_costs_depots = parsed_data[\"depot_opening_costs\"]\n",
    "    costs = parsed_data[\"distance_matrix\"]\n",
    "\n",
    "    mdl = Model_cpx(name=\"CDA_cpx\")\n",
    "\n",
    "    # Variables\n",
    "    v = mdl.binary_var_matrix(n, m, name=\"v\")  # Cliente asignado a depósito\n",
    "    x = mdl.binary_var_matrix(n + m, n + m, name=\"x\")  # Uso de arcos\n",
    "    y = mdl.binary_var_list(m, name=\"y\")  # Uso de depósitos\n",
    "\n",
    "    # Función objetivo\n",
    "    mdl.minimize(\n",
    "        mdl.sum(costs[i][j] * x[i, j] for i in range(n + m) for j in range(n + m)) +\n",
    "        mdl.sum(opening_costs_depots[d] * y[d] for d in range(m))\n",
    "    )\n",
    "\n",
    "    # Restricciones\n",
    "    # 1. Cada cliente asignado a un único depósito\n",
    "    for i in range(n):\n",
    "        mdl.add_constraint(mdl.sum(v[i, d] for d in range(m)) == 1)\n",
    "\n",
    "    # 2. Si un cliente está asignado a un depósito, el depósito debe estar activo\n",
    "    for i in range(n):\n",
    "        for d in range(m):\n",
    "            mdl.add_constraint(v[i, d] <= y[d])\n",
    "\n",
    "    # 3. Relación entre asignaciones y rutas\n",
    "    for i in range(n):\n",
    "        for j in range(n):\n",
    "            for d in range(m):\n",
    "                mdl.add_constraint(v[i, d] + x[i + m, j + m] <= v[j, d] + 1)\n",
    "\n",
    "    # 4. Capacidades de los depósitos\n",
    "    for d in range(m):\n",
    "        mdl.add_constraint(\n",
    "            mdl.sum(customer_demands[i] * v[i, d] for i in range(n)) <= depot_capacities[d]\n",
    "        )\n",
    "\n",
    "    # 5. Capacidad del vehículo\n",
    "    for i, j in [(i, j) for i in range(n + m) for j in range(n + m) if i != j]:\n",
    "        mdl.add_constraint(x[i, j] <= vehicle_capacity)\n",
    "\n",
    "    return mdl\n"
   ],
   "id": "d55968c07cb0a32e",
   "outputs": [],
   "execution_count": 5
  },
  {
   "metadata": {
    "ExecuteTime": {
     "end_time": "2024-12-04T21:50:42.560322Z",
     "start_time": "2024-12-04T21:50:42.506389Z"
    }
   },
   "cell_type": "code",
   "source": [
    "def modelo_cda_gurobi(parsed_data):\n",
    "    # Extract parameters from parsed data\n",
    "    n = parsed_data[\"num_customers\"]  # Number of customers\n",
    "    m = parsed_data[\"num_depots\"]  # Number of depots\n",
    "    depot_coords = parsed_data[\"depots\"]  # List of depot coords (e.g., [(0, 0), (1, 1), ...])\n",
    "    customer_coords = parsed_data[\"customers\"]  # List of customer coords (e.g., [(0, 0), (1, 1), ...])\n",
    "    vehicle_capacity = parsed_data[\"vehicle_capacity\"]  # Capacity of a vehicle\n",
    "    depot_capacities = parsed_data[\"depot_capacities\"]  # List of depot capacities\n",
    "    customer_demands = parsed_data[\"customer_demands\"]  # List of customer demands\n",
    "    opening_costs_depots = parsed_data[\"depot_opening_costs\"]  # List of depot opening costs\n",
    "    route_opening_cost = parsed_data[\"route_opening_cost\"]  # Cost of opening a route\n",
    "    costs = parsed_data[\"distance_matrix\"]  # Distance matrix\n",
    "\n",
    "    # listas de índices para depots y customers\n",
    "    customers = range(n)\n",
    "    depots = range(n, n + m)\n",
    "\n",
    "    # Hacer que keys() funcione\n",
    "    arc_indices = [(i, j) for i in range(m + n) for j in range(m + n) if i != j]\n",
    "\n",
    "    # Create a Gurobi model\n",
    "    model = Model_grb(\"CDA_grb\")\n",
    "\n",
    "    # Variables\n",
    "    x = model.addVars(arc_indices, vtype=GRB.BINARY,\n",
    "                      name=\"x\")  # Variable Binaria que indica si el arco de i a j está siendo usado\n",
    "    v = model.addVars([(i, d) for i in customers for d in depots], vtype=GRB.CONTINUOUS,\n",
    "                      name=\"v\")  # Variable continua que indica si el cliente está asignado a un depot d\n",
    "    y = model.addVars(depots, vtype=GRB.BINARY, name=\"y\")  # Variable binaria que indica si el depot d está abierto\n",
    "\n",
    "    # Funcion objetivo\n",
    "\n",
    "    model.setObjective(\n",
    "        gp.quicksum(costs[i][j] * x[i, j] for i, j in arc_indices) +  # Minimizar el costo de la ruta +\n",
    "        gp.quicksum(opening_costs_depots[d - n] * y[d] for d in depots) +  # El costo del inicio del depot +\n",
    "        route_opening_cost * gp.quicksum(x[d, i] for d in depots for i in customers),  # El inicio de la ruta.\n",
    "        GRB.MINIMIZE\n",
    "    )\n",
    "\n",
    "    # Restricción CDA\n",
    "    # Asegura que cada cliente este asignado a un sólo depot\n",
    "    model.addConstrs((gp.quicksum(v[i, d] for d in depots) == 1 for i in customers), \"client_assignment\")\n",
    "\n",
    "    # Asegura que si se ocupa un arco [i,d], el cliente [d,i] o [i,d] estará ahí\n",
    "    model.addConstrs((x[d, i] <= v[i, d] for d in depots for i in customers), \"client_inclusion_outgoing\")\n",
    "    model.addConstrs((x[i, d] <= v[i, d] for d in depots for i in customers), \"client_inclusion_incoming\")\n",
    "\n",
    "    # Restriccion que elimina subtours\n",
    "    model.addConstrs((v[i, d] + x[i, j] <= v[j, d] + 1 for d in depots for i in customers for j in customers if i != j),\n",
    "                     \"path_elimination\")\n",
    "\n",
    "    # Restricciones genéricas\n",
    "    # Restriccion capacidad depot\n",
    "    model.addConstrs(\n",
    "        (gp.quicksum(customer_demands[i] * v[i, d] for i in customers) <= depot_capacities[d - n] * y[d] for d in\n",
    "         depots),\n",
    "        \"depot_capacity\")\n",
    "\n",
    "    # Restriccion capacidad vehiculo\n",
    "    model.addConstrs(\n",
    "        (gp.quicksum(customer_demands[i] * x[i, j] for i in customers for j in customers if i != j) <= vehicle_capacity\n",
    "         for\n",
    "         d in depots), \"vehicle_capacity\")\n",
    "\n",
    "    # Restriccion depot abierto\n",
    "    model.addConstrs((v[i, d] <= y[d] for d in depots for i in customers), \"depot_open\")"
   ],
   "id": "d5af332c29cffef9",
   "outputs": [],
   "execution_count": 6
  },
  {
   "metadata": {},
   "cell_type": "markdown",
   "source": "# Ejecución de los modelos.",
   "id": "3f192d56b57e580e"
  },
  {
   "metadata": {
    "ExecuteTime": {
     "end_time": "2024-12-04T21:50:42.606337Z",
     "start_time": "2024-12-04T21:50:42.580498Z"
    }
   },
   "cell_type": "code",
   "source": [
    "# archivo de resultados\n",
    "file = open('results.csv', 'w')\n",
    "file.write(\n",
    "    \"Modelo,Benchmark,Instancia,Número de Variables,Número de Restricciones,Valor Función Objetivo,Tiempo de Cómputo (s)\\n\")\n",
    "file.flush()"
   ],
   "id": "1380d7ac7579ec4c",
   "outputs": [],
   "execution_count": 7
  },
  {
   "metadata": {
    "ExecuteTime": {
     "end_time": "2024-12-04T21:50:42.954063Z",
     "start_time": "2024-12-04T21:50:42.643628Z"
    }
   },
   "cell_type": "code",
   "source": [
    "# DATA\n",
    "instances = {'B1': ['coord20-5-1.dat', 'coord100-5-3b.dat', 'coord200-10-3b.dat'],\n",
    "             'B2': ['coordP111112.dat', 'coordP123222.dat', 'coordP133222.dat'],\n",
    "             'B3': ['coordChrist50.dat', 'coordDas150.dat', 'coordMin134.dat']}\n",
    "\n",
    "parsed_data = {'B1': [parse_file('Instances/Benchmark_1/' + inst) for inst in instances['B1']],\n",
    "               'B2': [parse_file('Instances/Benchmark_2/' + inst) for inst in instances['B2']],\n",
    "               'B3': [parse_file('Instances/Benchmark_3/' + inst) for inst in instances['B3']]}"
   ],
   "id": "bdfa3f0d28077c46",
   "outputs": [],
   "execution_count": 8
  },
  {
   "metadata": {
    "ExecuteTime": {
     "start_time": "2024-12-04T21:50:43.009417Z"
    }
   },
   "cell_type": "code",
   "source": [
    "# Creación de modelos\n",
    "# modelos = {'B1': {'cplex': {'SCF': [modelo_scf_cplex(data) for data in parsed_data['B1']],\n",
    "#                             'CDA': [modelo_cda_cplex(data) for data in parsed_data['B1']]},\n",
    "#                   'gurobi': {'SCF': [modelo_cda_gurobi(data) for data in parsed_data['B1']],\n",
    "#                              'CDA': [modelo_cda_gurobi(data) for data in parsed_data['B1']]}},\n",
    "#            'B2': {'cplex': {'SCF': [modelo_scf_cplex(data) for data in parsed_data['B2']],\n",
    "#                             'CDA': [modelo_cda_cplex(data) for data in parsed_data['B2']]},\n",
    "#                   'gurobi': {'SCF': [modelo_cda_gurobi(data) for data in parsed_data['B2']],\n",
    "#                              'CDA': [modelo_cda_gurobi(data) for data in parsed_data['B2']]}},\n",
    "#            'B3': {'cplex': {'SCF': [modelo_scf_cplex(data) for data in parsed_data['B3']],\n",
    "#                             'CDA': [modelo_cda_cplex(data) for data in parsed_data['B3']]},\n",
    "#                   'gurobi': {'SCF': [modelo_cda_gurobi(data) for data in parsed_data['B3']],\n",
    "#                              'CDA': [modelo_cda_gurobi(data) for data in parsed_data['B3']]}}}\n",
    "\n",
    "#modelos = {'SCF': {'cplex': [modelo_scf_cplex(data) for B in parsed_data for data in parsed_data[B]],\n",
    "#                   'gurobi': [modelo_scf_gurobi(data) for B in parsed_data for data in parsed_data[B]]},\n",
    "#           'CDA': {'cplex': [modelo_cda_cplex(data) for B in parsed_data for data in parsed_data[B]],\n",
    "#                   'gurobi': [modelo_cda_gurobi(data) for B in parsed_data for data in parsed_data[B]]}}\n",
    "\n",
    "modelos = {'SCF': {'cplex': {B: [modelo_scf_cplex(data) for data in parsed_data[B]] for B in parsed_data},\n",
    "                   'gurobi': {B: [modelo_scf_gurobi(data) for data in parsed_data[B]] for B in parsed_data}},\n",
    "           'CDA': {'cplex': {B: [modelo_cda_cplex(data) for data in parsed_data[B]] for B in parsed_data},\n",
    "                   'gurobi': {B: [modelo_cda_gurobi(data) for data in parsed_data[B]] for B in parsed_data}}}"
   ],
   "id": "2ad468a3ab42072a",
   "outputs": [
    {
     "name": "stdout",
     "output_type": "stream",
     "text": [
      "Set parameter Username\n",
      "Academic license - for non-commercial use only - expires 2025-10-09\n"
     ]
    }
   ],
   "execution_count": null
  },
  {
   "metadata": {},
   "cell_type": "code",
   "outputs": [],
   "execution_count": null,
   "source": [
    "def get_metrics_cpx(model_instance, benchmark, instance):\n",
    "    start_time = time.time()\n",
    "    model_instance.solve()\n",
    "    end_time = time.time()\n",
    "    return {\n",
    "        \"Modelo\": model_instance.name,\n",
    "        \"Benchmark\": benchmark,\n",
    "        \"Instancia\": instance,\n",
    "        \"Número de Variables\": model_instance.number_of_variables,\n",
    "        \"Número de Restricciones\": model_instance.number_of_constraints,\n",
    "        \"Valor Función Objetivo\": model_instance.objective_value if model_instance.solution is not None else \"N/A\",\n",
    "        \"Tiempo de Cómputo (s)\": end_time - start_time\n",
    "    }"
   ],
   "id": "f8777ddb5e7a3ad7"
  },
  {
   "metadata": {},
   "cell_type": "code",
   "outputs": [],
   "execution_count": null,
   "source": [
    "def get_metrics_grb(model_instance, benchmark, instance):\n",
    "    start_time = time.time()\n",
    "    model_instance.optimize()\n",
    "    end_time = time.time()\n",
    "    return {\n",
    "        \"Modelo\": model_instance.getAttr(\"ModelName\"),\n",
    "        \"Benchmark\": benchmark,\n",
    "        \"Instancia\": instance,\n",
    "        \"Número de Variables\": len(model_instance.getVars()),\n",
    "        \"Número de Restricciones\": len(model_instance.getConstrs()),\n",
    "        \"Valor Función Objetivo\": model_instance.objVal if model_instance.status == GRB.OPTIMAL else \"N/A\",\n",
    "        \"Tiempo de Cómputo (s)\": end_time - start_time\n",
    "    }"
   ],
   "id": "c01ccaeff3d9d143"
  },
  {
   "metadata": {
    "ExecuteTime": {
     "start_time": "2024-12-04T21:30:26.983982Z"
    }
   },
   "cell_type": "code",
   "source": [
    "# Ejecución de modelos\n",
    "for model in modelos:\n",
    "    for solver in modelos[model]:\n",
    "        for B in modelos[model][solver]:\n",
    "            for i, model_instance in enumerate(modelos[model][solver][B]):\n",
    "                if solver == 'cplex':\n",
    "                    metrics = get_metrics_cpx(model_instance, B, instances[B][i])\n",
    "                elif solver == 'gurobi':\n",
    "                    metrics = get_metrics_grb(model_instance, B, instances[B][i])\n",
    "\n",
    "                print(metrics)\n",
    "                file.write(f\"{metrics['Modelo']},{metrics['Benchmark']},{metrics['Instancia']},{metrics['Número de Variables']},\"\n",
    "                           f\"{metrics['Número de Restricciones']},{metrics['Valor Función Objetivo']},\"\n",
    "                           f\"{metrics['Tiempo de Cómputo (s)']}\\n\")\n",
    "                file.flush()"
   ],
   "id": "ccb5c0dfe4b31bf7",
   "outputs": [],
   "execution_count": null
  }
 ],
 "metadata": {
  "kernelspec": {
   "display_name": "Python 3",
   "language": "python",
   "name": "python3"
  },
  "language_info": {
   "codemirror_mode": {
    "name": "ipython",
    "version": 2
   },
   "file_extension": ".py",
   "mimetype": "text/x-python",
   "name": "python",
   "nbconvert_exporter": "python",
   "pygments_lexer": "ipython2",
   "version": "2.7.6"
  }
 },
 "nbformat": 4,
 "nbformat_minor": 5
}
