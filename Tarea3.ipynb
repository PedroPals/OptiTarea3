{
 "cells": [
  {
   "metadata": {},
   "cell_type": "markdown",
   "source": [
    "The structure of the files is as follows:\n",
    "\n",
    "\n",
    "number of customers\n",
    "number of available depots\n",
    "\n",
    "coordinates for the depots (x and y)\n",
    "\n",
    "coordinates for the customers\n",
    "\n",
    "vehicle capacity\n",
    "\n",
    "depot capacities (for Tuzun instances, each one is equal to the total demand as there is no capacity on the depots)\n",
    "\n",
    "customers demands\n",
    "\n",
    "opening costs for the depots\n",
    "\n",
    "opening cost of a route (cost of a vehicle)\n",
    "\n",
    "0 or 1 (0 means that the costs are integer - 1 that costs are real)\n",
    "\n",
    "\n",
    "To calculate the matrix distance (or the cost to link any 2 points A and B in the graph), we use the mathematical formula:\n",
    "\n",
    "sqrt( (xA-xB)² + (yA-yB)² )\n",
    "\n",
    "The results are stored in a float variable (in C language) if the costs are real (code 1)\n",
    "The result is multiplied by 100 and truncked to be stored in an integer variable if the costs are interger (code 0)."
   ],
   "id": "a3f946d247a77571"
  },
  {
   "metadata": {},
   "cell_type": "markdown",
   "source": [
    "Example of a file:\n",
    "\n",
    "20\n",
    "5\n",
    "\n",
    "6\t7\n",
    "19\t44\n",
    "37\t23\n",
    "35\t6\n",
    "5\t8\n",
    "\n",
    "20\t35\n",
    "8\t31\n",
    "29\t43\n",
    "18\t39\n",
    "19\t47\n",
    "31\t24\n",
    "38\t50\n",
    "33\t21\n",
    "2\t27\n",
    "1\t12\n",
    "26\t20\n",
    "20\t33\n",
    "15\t46\n",
    "20\t26\n",
    "17\t19\n",
    "15\t12\n",
    "5\t30\n",
    "13\t40\n",
    "38\t5\n",
    "9\t40\n",
    "\n",
    "70\n",
    "\n",
    "140\n",
    "140\n",
    "140\n",
    "140\n",
    "140\n",
    "\n",
    "17\n",
    "18\n",
    "13\n",
    "19\n",
    "12\n",
    "18\n",
    "13\n",
    "13\n",
    "17\n",
    "20\n",
    "16\n",
    "18\n",
    "15\n",
    "11\n",
    "18\n",
    "16\n",
    "15\n",
    "15\n",
    "15\n",
    "16\n",
    "\n",
    "10841\n",
    "11961\n",
    "6091\n",
    "7570\n",
    "7497\n",
    "\n",
    "1000\n",
    "\n",
    "0\n",
    "\n"
   ],
   "id": "95b3d9f6013e8429"
  },
  {
   "metadata": {
    "ExecuteTime": {
     "end_time": "2024-12-04T06:55:39.116611200Z",
     "start_time": "2024-12-04T06:55:30.455769Z"
    }
   },
   "cell_type": "code",
   "source": [
    "from docplex.mp.model import Model\n",
    "import numpy as np\n",
    "import pandas as pd\n",
    "import matplotlib.pyplot as plt\n",
    "import math\n",
    "import time"
   ],
   "id": "7b5a02173163ca3a",
   "outputs": [],
   "execution_count": 1
  },
  {
   "metadata": {},
   "cell_type": "markdown",
   "source": "Parser",
   "id": "a1562b79105d9bd6"
  },
  {
   "metadata": {
    "ExecuteTime": {
     "end_time": "2024-12-04T06:55:35.817376Z",
     "start_time": "2024-12-04T06:55:35.773999Z"
    }
   },
   "cell_type": "code",
   "source": [
    "def parse_file(file_path):\n",
    "    with open(file_path, 'r') as file:\n",
    "        lines = [line.strip() for line in file if line.strip()]\n",
    "\n",
    "    num_customers, num_depots = int(lines[0]), int(lines[1])\n",
    "    depots = [tuple(map(float, lines[i].split())) for i in range(2, 2 + num_depots)]\n",
    "    customers = [tuple(map(float, lines[i].split())) for i in range(2 + num_depots, 2 + num_depots + num_customers)]\n",
    "    vehicle_capacity = float(lines[2 + num_depots + num_customers])\n",
    "    depot_capacities = list(map(float, lines[3 + num_depots + num_customers:3 + 2 * num_depots + num_customers]))\n",
    "    customer_demands = list(\n",
    "        map(float, lines[3 + 2 * num_depots + num_customers:3 + 2 * num_depots + 2 * num_customers]))\n",
    "    depot_opening_costs = list(\n",
    "        map(float, lines[3 + 2 * num_depots + 2 * num_customers:3 + 3 * num_depots + 2 * num_customers]))\n",
    "    route_opening_cost = float(lines[3 + 3 * num_depots + 2 * num_customers])\n",
    "\n",
    "    all_points = depots + customers\n",
    "    distance_matrix = [\n",
    "        [math.sqrt((x1 - x2) ** 2 + (y1 - y2) ** 2) for x2, y2 in all_points] for x1, y1 in all_points\n",
    "    ]\n",
    "\n",
    "    return {\n",
    "        \"num_customers\": num_customers,\n",
    "        \"num_depots\": num_depots,\n",
    "        \"depots\": depots,\n",
    "        \"customers\": customers,\n",
    "        \"vehicle_capacity\": vehicle_capacity,\n",
    "        \"depot_capacities\": depot_capacities,\n",
    "        \"customer_demands\": customer_demands,\n",
    "        \"depot_opening_costs\": depot_opening_costs,\n",
    "        \"route_opening_cost\": route_opening_cost,\n",
    "        \"distance_matrix\": distance_matrix,\n",
    "    }"
   ],
   "id": "fd44359467153434",
   "outputs": [],
   "execution_count": 2
  },
  {
   "metadata": {
    "ExecuteTime": {
     "end_time": "2024-12-04T06:55:35.914380Z",
     "start_time": "2024-12-04T06:55:35.844015Z"
    }
   },
   "cell_type": "code",
   "source": [
    "def modelo_scf(parsed_data):\n",
    "\n",
    "    n = parsed_data[\"num_customers\"]\n",
    "    m = parsed_data[\"num_depots\"]\n",
    "    depots = parsed_data[\"depots\"]\n",
    "    customers = parsed_data[\"customers\"]\n",
    "    vehicle_capacity = parsed_data[\"vehicle_capacity\"]\n",
    "    depot_capacities = parsed_data[\"depot_capacities\"]\n",
    "    customers_demands = parsed_data[\"customer_demands\"]\n",
    "    opening_costs_depots = parsed_data[\"depot_opening_costs\"]\n",
    "    costs = parsed_data[\"distance_matrix\"]\n",
    "\n",
    "\n",
    "    mdl = Model(name=\"SCF\")\n",
    "\n",
    "    # Variables\n",
    "    nodos = list(range(n + m))\n",
    "    x = mdl.binary_var_matrix(nodos, nodos, name=\"x\")  # Ruta entre nodos\n",
    "    f = mdl.continuous_var_matrix(nodos, nodos, name=\"f\")  # Flujo\n",
    "    y = mdl.binary_var_list(m, name=\"y\")  # Uso de depósitos\n",
    "\n",
    "    # Función objetivo\n",
    "    mdl.minimize(\n",
    "        mdl.sum(costs[i][j] * x[i, j] for i in nodos for j in nodos if i != j) +\n",
    "        mdl.sum(opening_costs_depots[d] * y[d] for d in range(m))\n",
    "    )\n",
    "\n",
    "    # Restricciones\n",
    "    # 1. Cada cliente es atendido exactamente una vez\n",
    "    for i in range(m, m + n):\n",
    "        mdl.add_constraint(mdl.sum(x[i, j] for j in nodos if j != i) == 1)\n",
    "        mdl.add_constraint(mdl.sum(x[j, i] for j in nodos if j != i) == 1)\n",
    "\n",
    "    # 2. Cada ruta debe comenzar y terminar en un depósito\n",
    "    for d in range(m):\n",
    "        mdl.add_constraint(mdl.sum(x[d, j] for j in range(m, m + n)) <= y[d])\n",
    "        mdl.add_constraint(mdl.sum(x[j, d] for j in range(m, m + n)) <= y[d])\n",
    "\n",
    "    # 3. Restricciones de flujo\n",
    "    for i in range(m, m + n):\n",
    "        mdl.add_constraint(\n",
    "            mdl.sum(f[i, j] for j in nodos if j != i) -\n",
    "            mdl.sum(f[j, i] for j in nodos if j != i) == customers_demands[i - m]\n",
    "        )\n",
    "    for i, j in [(i, j) for i in nodos for j in nodos if i != j]:\n",
    "        mdl.add_constraint(f[i, j] <= vehicle_capacity * x[i, j])\n",
    "\n",
    "    # 4. Capacidades de los depósitos\n",
    "    for d in range(m):\n",
    "        mdl.add_constraint(\n",
    "            mdl.sum(f[d, j] for j in range(m, m + n)) <= depot_capacities[d]\n",
    "        )\n",
    "\n",
    "    return mdl\n"
   ],
   "id": "ddcc31adf77e1c0",
   "outputs": [],
   "execution_count": 3
  },
  {
   "metadata": {
    "ExecuteTime": {
     "end_time": "2024-12-04T06:55:36.074015Z",
     "start_time": "2024-12-04T06:55:36.014012Z"
    }
   },
   "cell_type": "code",
   "source": [
    "def modelo_cda(parsed_data):\n",
    "    n = parsed_data[\"num_customers\"]\n",
    "    m = parsed_data[\"num_depots\"]\n",
    "    depots = parsed_data[\"depots\"]\n",
    "    customers = parsed_data[\"customers\"]\n",
    "    vehicle_capacity = parsed_data[\"vehicle_capacity\"]\n",
    "    depot_capacities = parsed_data[\"depot_capacities\"]\n",
    "    customer_demands = parsed_data[\"customer_demands\"]\n",
    "    opening_costs_depots = parsed_data[\"depot_opening_costs\"]\n",
    "    costs = parsed_data[\"distance_matrix\"]\n",
    "\n",
    "    mdl = Model(name=\"CDA\")\n",
    "\n",
    "    # Variables\n",
    "    v = mdl.binary_var_matrix(n, m, name=\"v\")  # Cliente asignado a depósito\n",
    "    x = mdl.binary_var_matrix(n + m, n + m, name=\"x\")  # Uso de arcos\n",
    "    y = mdl.binary_var_list(m, name=\"y\")  # Uso de depósitos\n",
    "\n",
    "    # Función objetivo\n",
    "    mdl.minimize(\n",
    "        mdl.sum(costs[i][j] * x[i, j] for i in range(n + m) for j in range(n + m)) +\n",
    "        mdl.sum(opening_costs_depots[d] * y[d] for d in range(m))\n",
    "    )\n",
    "\n",
    "    # Restricciones\n",
    "    # 1. Cada cliente asignado a un único depósito\n",
    "    for i in range(n):\n",
    "        mdl.add_constraint(mdl.sum(v[i, d] for d in range(m)) == 1)\n",
    "\n",
    "    # 2. Si un cliente está asignado a un depósito, el depósito debe estar activo\n",
    "    for i in range(n):\n",
    "        for d in range(m):\n",
    "            mdl.add_constraint(v[i, d] <= y[d])\n",
    "\n",
    "    # 3. Relación entre asignaciones y rutas\n",
    "    for i in range(n):\n",
    "        for j in range(n):\n",
    "            for d in range(m):\n",
    "                mdl.add_constraint(v[i, d] + x[i + m, j + m] <= v[j, d] + 1)\n",
    "\n",
    "    # 4. Capacidades de los depósitos\n",
    "    for d in range(m):\n",
    "        mdl.add_constraint(\n",
    "            mdl.sum(customer_demands[i] * v[i, d] for i in range(n)) <= depot_capacities[d]\n",
    "        )\n",
    "\n",
    "    # 5. Capacidad del vehículo\n",
    "    for i, j in [(i, j) for i in range(n + m) for j in range(n + m) if i != j]:\n",
    "        mdl.add_constraint(x[i, j] <= vehicle_capacity)\n",
    "\n",
    "    return mdl\n"
   ],
   "id": "d55968c07cb0a32e",
   "outputs": [],
   "execution_count": 4
  },
  {
   "metadata": {
    "ExecuteTime": {
     "end_time": "2024-12-04T06:55:36.141301Z",
     "start_time": "2024-12-04T06:55:36.099196Z"
    }
   },
   "cell_type": "code",
   "source": [
    "file_path = 'Instances/Benchmark_1/coord20-5-1.dat'\n",
    "\n",
    "parsed_data = parse_file(file_path)"
   ],
   "id": "9cd0068a62f92e06",
   "outputs": [],
   "execution_count": 5
  },
  {
   "metadata": {
    "ExecuteTime": {
     "end_time": "2024-12-04T06:55:36.719343Z",
     "start_time": "2024-12-04T06:55:36.454170Z"
    }
   },
   "cell_type": "code",
   "source": [
    "mdl_scf = modelo_scf(parsed_data)\n",
    "mdl_scf.print_information()"
   ],
   "id": "2ad468a3ab42072a",
   "outputs": [
    {
     "name": "stdout",
     "output_type": "stream",
     "text": [
      "Model: SCF\n",
      " - number of variables: 1255\n",
      "   - binary=630, integer=0, continuous=625\n",
      " - number of constraints: 675\n",
      "   - linear=675\n",
      " - parameters: defaults\n",
      " - objective: minimize\n",
      " - problem type is: MILP\n"
     ]
    }
   ],
   "execution_count": 6
  },
  {
   "metadata": {
    "ExecuteTime": {
     "end_time": "2024-12-04T06:55:37.249953Z",
     "start_time": "2024-12-04T06:55:36.824103Z"
    }
   },
   "cell_type": "code",
   "source": [
    "mdl_cda = modelo_cda(parsed_data)\n",
    "mdl_cda.print_information()"
   ],
   "id": "c7b5ec712d6e0982",
   "outputs": [
    {
     "name": "stdout",
     "output_type": "stream",
     "text": [
      "Model: CDA\n",
      " - number of variables: 730\n",
      "   - binary=730, integer=0, continuous=0\n",
      " - number of constraints: 2725\n",
      "   - linear=2725\n",
      " - parameters: defaults\n",
      " - objective: minimize\n",
      " - problem type is: MILP\n"
     ]
    }
   ],
   "execution_count": 7
  },
  {
   "metadata": {
    "ExecuteTime": {
     "end_time": "2024-12-04T06:55:37.313322Z",
     "start_time": "2024-12-04T06:55:37.284096Z"
    }
   },
   "cell_type": "code",
   "source": [
    "def solve_instance(model):\n",
    "    start_time = time.time()\n",
    "    solution = model.solve()\n",
    "    end_time = time.time()\n",
    "\n",
    "    metrics = {\n",
    "        \"Modelo\": model.name,\n",
    "        \"Instancia\": file_path,\n",
    "        \"Número de Variables\": model.number_of_variables,\n",
    "        \"Número de Restricciones\": model.number_of_constraints,\n",
    "        \"Valor Función Objetivo\": model.objective_value if solution is not None else \"N/A\",\n",
    "        \"Tiempo de Cómputo (s)\": end_time - start_time\n",
    "    }\n",
    "    return metrics"
   ],
   "id": "e11dc9e90ad9baaa",
   "outputs": [],
   "execution_count": 8
  },
  {
   "metadata": {
    "ExecuteTime": {
     "end_time": "2024-12-04T06:55:39.005394Z",
     "start_time": "2024-12-04T06:55:37.344457Z"
    }
   },
   "cell_type": "code",
   "source": [
    "metrics_scf = solve_instance(model=mdl_scf)\n",
    "metrics_scf"
   ],
   "id": "ccb5c0dfe4b31bf7",
   "outputs": [
    {
     "ename": "TypeError",
     "evalue": "solve_instance() got an unexpected keyword argument 'model_name'",
     "output_type": "error",
     "traceback": [
      "\u001B[1;31m---------------------------------------------------------------------------\u001B[0m",
      "\u001B[1;31mTypeError\u001B[0m                                 Traceback (most recent call last)",
      "Cell \u001B[1;32mIn[9], line 1\u001B[0m\n\u001B[1;32m----> 1\u001B[0m metrics_scf \u001B[38;5;241m=\u001B[39m \u001B[43msolve_instance\u001B[49m\u001B[43m(\u001B[49m\u001B[43mmodel\u001B[49m\u001B[38;5;241;43m=\u001B[39;49m\u001B[43mmdl_scf\u001B[49m\u001B[43m,\u001B[49m\u001B[43m \u001B[49m\u001B[43mmodel_name\u001B[49m\u001B[38;5;241;43m=\u001B[39;49m\u001B[38;5;124;43m\"\u001B[39;49m\u001B[38;5;124;43mSCF\u001B[39;49m\u001B[38;5;124;43m\"\u001B[39;49m\u001B[43m)\u001B[49m\n\u001B[0;32m      2\u001B[0m metrics_scf\n",
      "\u001B[1;31mTypeError\u001B[0m: solve_instance() got an unexpected keyword argument 'model_name'"
     ]
    }
   ],
   "execution_count": 9
  },
  {
   "metadata": {
    "ExecuteTime": {
     "end_time": "2024-12-04T06:56:02.648663Z",
     "start_time": "2024-12-04T06:56:02.445067Z"
    }
   },
   "cell_type": "code",
   "source": [
    "metrics_cda = solve_instance(model=mdl_cda)\n",
    "metrics_cda"
   ],
   "id": "6b7c9de07fec37f3",
   "outputs": [
    {
     "data": {
      "text/plain": [
       "{'Modelo': 'CDA',\n",
       " 'Instancia': 'Instances/Benchmark_1/coord20-5-1.dat',\n",
       " 'Número de Variables': 730,\n",
       " 'Número de Restricciones': 2725,\n",
       " 'Valor Función Objetivo': 21158.0,\n",
       " 'Tiempo de Cómputo (s)': 0.1500720977783203}"
      ]
     },
     "execution_count": 10,
     "metadata": {},
     "output_type": "execute_result"
    }
   ],
   "execution_count": 10
  }
 ],
 "metadata": {
  "kernelspec": {
   "display_name": "Python 3",
   "language": "python",
   "name": "python3"
  },
  "language_info": {
   "codemirror_mode": {
    "name": "ipython",
    "version": 2
   },
   "file_extension": ".py",
   "mimetype": "text/x-python",
   "name": "python",
   "nbconvert_exporter": "python",
   "pygments_lexer": "ipython2",
   "version": "2.7.6"
  }
 },
 "nbformat": 4,
 "nbformat_minor": 5
}
